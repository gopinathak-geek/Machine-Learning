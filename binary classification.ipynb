{
  "nbformat": 4,
  "nbformat_minor": 0,
  "metadata": {
    "colab": {
      "provenance": [],
      "authorship_tag": "ABX9TyOuIsb6lsGRMqyZugb3LSL8",
      "include_colab_link": true
    },
    "kernelspec": {
      "name": "python3",
      "display_name": "Python 3"
    },
    "language_info": {
      "name": "python"
    },
    "accelerator": "GPU",
    "gpuClass": "standard"
  },
  "cells": [
    {
      "cell_type": "markdown",
      "metadata": {
        "id": "view-in-github",
        "colab_type": "text"
      },
      "source": [
        "<a href=\"https://colab.research.google.com/github/gopinathak-geek/Machine-Learning/blob/main/binary%20classification.ipynb\" target=\"_parent\"><img src=\"https://colab.research.google.com/assets/colab-badge.svg\" alt=\"Open In Colab\"/></a>"
      ]
    },
    {
      "cell_type": "code",
      "source": [
        "import torch\n",
        "import torch.nn as nn\n",
        "import numpy as np\n",
        "from sklearn import datasets\n",
        "from sklearn.preprocessing import StandardScaler\n",
        "from sklearn.model_selection import train_test_split\n"
      ],
      "metadata": {
        "id": "cDoBZu8tMjgE"
      },
      "execution_count": 3,
      "outputs": []
    },
    {
      "cell_type": "code",
      "source": [
        "DEVICE = torch.device(\"cuda:0\" if torch.cuda.is_available() else \"cpu\")\n",
        "print(DEVICE)"
      ],
      "metadata": {
        "colab": {
          "base_uri": "https://localhost:8080/"
        },
        "id": "CG54p72DvSPB",
        "outputId": "dd7d7962-3b2a-4f89-fb8b-9db5389c5414"
      },
      "execution_count": 4,
      "outputs": [
        {
          "output_type": "stream",
          "name": "stdout",
          "text": [
            "cuda:0\n"
          ]
        }
      ]
    },
    {
      "cell_type": "code",
      "source": [
        "bc = datasets.load_breast_cancer()\n",
        "x, y = bc.data, bc.target\n",
        "\n",
        "n_samples, n_features = x.shape"
      ],
      "metadata": {
        "id": "OT6AxUIZeLLX"
      },
      "execution_count": 10,
      "outputs": []
    },
    {
      "cell_type": "code",
      "source": [
        "print(n_samples)\n",
        "print(n_features)"
      ],
      "metadata": {
        "colab": {
          "base_uri": "https://localhost:8080/"
        },
        "id": "-IjR359ZkyPB",
        "outputId": "f0c09eca-0e05-4489-e30f-066addb63d22"
      },
      "execution_count": 11,
      "outputs": [
        {
          "output_type": "stream",
          "name": "stdout",
          "text": [
            "569\n",
            "30\n"
          ]
        }
      ]
    },
    {
      "cell_type": "code",
      "source": [
        "x_train, x_valid, y_train, y_valid = train_test_split(x, y, test_size=0.2, random_state = 12)"
      ],
      "metadata": {
        "id": "uz-lLGO1k8sn"
      },
      "execution_count": 15,
      "outputs": []
    },
    {
      "cell_type": "code",
      "source": [
        "sc = StandardScaler()\n",
        "x_train = sc.fit_transform(x_train)\n",
        "x_valid = sc.transform(x_valid)"
      ],
      "metadata": {
        "id": "hStzFBNglUIP"
      },
      "execution_count": 16,
      "outputs": []
    },
    {
      "cell_type": "code",
      "source": [
        "x_train = torch.from_numpy(x_train.astype(np.float32))\n",
        "x_valid = torch.from_numpy(x_valid.astype(np.float32))\n",
        "y_train = torch.from_numpy(y_train.astype(np.float32))\n",
        "y_valid = torch.from_numpy(y_valid.astype(np.float32))"
      ],
      "metadata": {
        "id": "4lIpAnQ2mdgA"
      },
      "execution_count": 19,
      "outputs": []
    },
    {
      "cell_type": "code",
      "source": [
        "y_train = y_train.view(y_train.shape[0],1)\n",
        "y_valid = y_valid.view(y_valid.shape[0],1)"
      ],
      "metadata": {
        "id": "_-wJ_yGTnwvp"
      },
      "execution_count": 23,
      "outputs": []
    },
    {
      "cell_type": "code",
      "source": [
        "class LogisticRegression(nn.Module):\n",
        "  def __init__(self, n_input_features):\n",
        "    super(LogisticRegression, self).__init__()\n",
        "    self.linear = nn.Linear(n_input_features, 1)\n",
        "  def forward(self, x):\n",
        "    y_predicted = torch.sigmoid(self.linear(x))\n",
        "    return y_predicted"
      ],
      "metadata": {
        "id": "YXIApwR4oZeE"
      },
      "execution_count": 27,
      "outputs": []
    },
    {
      "cell_type": "code",
      "source": [
        "model = LogisticRegression(n_features)"
      ],
      "metadata": {
        "id": "v-nxjRESqHZi"
      },
      "execution_count": 28,
      "outputs": []
    },
    {
      "cell_type": "code",
      "source": [
        "LEARNING_RATE = 0.001\n",
        "criterion = nn.BCELoss()\n",
        "optimizer = torch.optim.Adam(model.parameters(), lr=LEARNING_RATE)\n"
      ],
      "metadata": {
        "id": "iOE9volaqvmz"
      },
      "execution_count": 29,
      "outputs": []
    },
    {
      "cell_type": "code",
      "source": [
        "EPOCHS = 100\n",
        "\n",
        "for epoch in range(EPOCHS):\n",
        "  y_predicted = model(x_train)\n",
        "  loss = criterion(y_predicted, y_train)\n",
        "\n",
        "  loss.backward()\n",
        "\n",
        "  optimizer.step()\n",
        "\n",
        "  optimizer.zero_grad()\n",
        "\n",
        "\n",
        "  if(epoch+1) % 10 ==1:\n",
        "    print(f'epoch: {epoch+1} | loss = {loss.item():4f}')\n",
        "\n",
        "with torch.no_grad():\n",
        "  y_predicted = model(x_valid)\n",
        "  y_predicted_cls = y_predicted.round()\n",
        "  acc = y_predicted_cls.eq(y_valid).sum() / float(y_valid.shape[0])\n",
        "  print(f'Accuracy:{acc}:4f')"
      ],
      "metadata": {
        "colab": {
          "base_uri": "https://localhost:8080/"
        },
        "id": "PPX4TLGkrIlY",
        "outputId": "ea4a3ccb-07ce-4af6-9ae3-529310fd851b"
      },
      "execution_count": 31,
      "outputs": [
        {
          "output_type": "stream",
          "name": "stdout",
          "text": [
            "epoch: 1 | loss = 0.246137\n",
            "epoch: 11 | loss = 0.227988\n",
            "epoch: 21 | loss = 0.212228\n",
            "epoch: 31 | loss = 0.198497\n",
            "epoch: 41 | loss = 0.186491\n",
            "epoch: 51 | loss = 0.175939\n",
            "epoch: 61 | loss = 0.166606\n",
            "epoch: 71 | loss = 0.158291\n",
            "epoch: 81 | loss = 0.150827\n",
            "epoch: 91 | loss = 0.144077\n",
            "Accuracy:0.9561403393745422:4f\n"
          ]
        }
      ]
    }
  ]
}