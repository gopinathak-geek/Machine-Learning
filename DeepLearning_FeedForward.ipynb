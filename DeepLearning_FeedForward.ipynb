{
  "nbformat": 4,
  "nbformat_minor": 0,
  "metadata": {
    "colab": {
      "provenance": [],
      "authorship_tag": "ABX9TyNN3SlRkD9gvGvxTBDYjSNB",
      "include_colab_link": true
    },
    "kernelspec": {
      "name": "python3",
      "display_name": "Python 3"
    },
    "language_info": {
      "name": "python"
    },
    "accelerator": "GPU",
    "gpuClass": "standard"
  },
  "cells": [
    {
      "cell_type": "markdown",
      "metadata": {
        "id": "view-in-github",
        "colab_type": "text"
      },
      "source": [
        "<a href=\"https://colab.research.google.com/github/gopinathak-geek/Machine-Learning/blob/main/DeepLearning_FeedForward.ipynb\" target=\"_parent\"><img src=\"https://colab.research.google.com/assets/colab-badge.svg\" alt=\"Open In Colab\"/></a>"
      ]
    },
    {
      "cell_type": "markdown",
      "source": [
        "**Deep Learning Fully connected feed forward** \n",
        "\n"
      ],
      "metadata": {
        "id": "TZ_QhWMc0yDB"
      }
    },
    {
      "cell_type": "code",
      "source": [
        "import torch\n",
        "import torchvision\n",
        "from torchvision.datasets import MNIST\n",
        "import torchvision.transforms as transforms\n",
        "from torch.utils.data import DataLoader\n",
        "import torch.nn as nn\n"
      ],
      "metadata": {
        "id": "2MYWrxUj1HBR"
      },
      "execution_count": 32,
      "outputs": []
    },
    {
      "cell_type": "code",
      "source": [
        "training_data = MNIST(root='data', download=True, transform=transforms.ToTensor())"
      ],
      "metadata": {
        "id": "xhqGmbHV2Bpr"
      },
      "execution_count": 24,
      "outputs": []
    },
    {
      "cell_type": "code",
      "source": [
        "testing_data = MNIST(root='data/', train=False, transform=transforms.ToTensor())"
      ],
      "metadata": {
        "id": "niMaNh3l2Sbf"
      },
      "execution_count": 25,
      "outputs": []
    },
    {
      "cell_type": "code",
      "source": [
        "image, label = training_data[2]\n",
        "print(image.shape, label)"
      ],
      "metadata": {
        "colab": {
          "base_uri": "https://localhost:8080/"
        },
        "id": "5LAgvHNA3Ojh",
        "outputId": "c6fec5b7-7d28-4c30-b624-b7df9bf2806f"
      },
      "execution_count": 26,
      "outputs": [
        {
          "output_type": "stream",
          "name": "stdout",
          "text": [
            "torch.Size([1, 28, 28]) 4\n"
          ]
        }
      ]
    },
    {
      "cell_type": "code",
      "source": [
        "print(f'Training data: {len(training_data)} | Testing data: {len(testing_data)}')"
      ],
      "metadata": {
        "colab": {
          "base_uri": "https://localhost:8080/"
        },
        "id": "oh83EQ8S-LO2",
        "outputId": "5d55d849-adc1-4b98-d13b-5e7e2ad9ab44"
      },
      "execution_count": 27,
      "outputs": [
        {
          "output_type": "stream",
          "name": "stdout",
          "text": [
            "Training data: 60000 | Testing data: 10000\n"
          ]
        }
      ]
    },
    {
      "cell_type": "code",
      "source": [
        "train_size = int(0.8 * len(training_data))\n",
        "val_size = len(training_data) - train_size\n",
        "training_data, validation_data = torch.utils.data.random_split(training_data, [train_size, val_size])"
      ],
      "metadata": {
        "id": "lSAK1rY2AES2"
      },
      "execution_count": 28,
      "outputs": []
    },
    {
      "cell_type": "code",
      "source": [
        "print(f'Training data: {len(training_data)} | validation data: {len(validation_data)} | Testing data: {len(testing_data)}')"
      ],
      "metadata": {
        "colab": {
          "base_uri": "https://localhost:8080/"
        },
        "id": "k_UegRLwA_mo",
        "outputId": "2515dac9-72b8-47df-cf56-702cc6a572cc"
      },
      "execution_count": 29,
      "outputs": [
        {
          "output_type": "stream",
          "name": "stdout",
          "text": [
            "Training data: 48000 | validation data: 12000 | Testing data: 10000\n"
          ]
        }
      ]
    },
    {
      "cell_type": "code",
      "source": [
        "BATCH_SIZE = 126"
      ],
      "metadata": {
        "id": "3mT_bwM3CRol"
      },
      "execution_count": 30,
      "outputs": []
    },
    {
      "cell_type": "code",
      "source": [
        "training_loader = DataLoader(dataset=training_data, batch_size=BATCH_SIZE, shuffle=True, num_workers=2, pin_memory=True)\n",
        "validation_loader = DataLoader(dataset=validation_data, batch_size=BATCH_SIZE, shuffle=False, num_workers=2, pin_memory=True)"
      ],
      "metadata": {
        "id": "LydXmTWxCFEb"
      },
      "execution_count": 31,
      "outputs": []
    },
    {
      "cell_type": "code",
      "source": [
        "training_loader"
      ],
      "metadata": {
        "colab": {
          "base_uri": "https://localhost:8080/"
        },
        "id": "KEVVIkuOGm00",
        "outputId": "764f85e5-390f-4faf-8d62-2ad1d1e76278"
      },
      "execution_count": 33,
      "outputs": [
        {
          "output_type": "execute_result",
          "data": {
            "text/plain": [
              "<torch.utils.data.dataloader.DataLoader at 0x7fd15d13b650>"
            ]
          },
          "metadata": {},
          "execution_count": 33
        }
      ]
    },
    {
      "cell_type": "code",
      "source": [
        "class FeedForward(nn.module):\n",
        "  def __init__(self):\n",
        "    super(FeedForward, self).__init__()\n",
        "    self.layer_1 = nn.Linear(784, 1568)\n",
        "    self.layer_2 = nn.Linear(1568, 784)\n",
        "    self.layer_3 = nn.Linear(784, 392)\n",
        "    self.layer_4 = nn.Linear(392, 10)\n",
        "    self.relu = nn.ReLU()\n",
        "    self.dropout = nn.Dropout(p=0.1)\n",
        "\n",
        "  def forward(self, input):\n",
        "    flatten_image = input.view(input.size(0), -1)\n",
        "    out = self.layer_1(flatten_image)\n",
        "    out = self.relu(out)\n",
        "    out = self.dropout(out)\n",
        "    out = self.layer_2(out)\n",
        "    out = self.relu(out)\n",
        "    out = self.dropout(out)\n",
        "    out = self.layer_3(out)\n",
        "    out = self.relu(out)\n",
        "    out = self.dropout(out)\n",
        "    out = self.layer_4(out)\n",
        "    return out\n",
        "\n",
        "\n"
      ],
      "metadata": {
        "id": "B_p2XIelFekP"
      },
      "execution_count": null,
      "outputs": []
    }
  ]
}